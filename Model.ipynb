{
  "cells": [
    {
      "cell_type": "code",
      "execution_count": null,
      "metadata": {
        "id": "Cc8LJJ5UUdLA"
      },
      "outputs": [],
      "source": [
        "#Import Library that used\n",
        "import os\n",
        "import json\n",
        "import shutil\n",
        "import cv2\n",
        "import pandas as pd\n",
        "import numpy as np\n",
        "import seaborn as sns\n",
        "import tensorflow as tf\n",
        "import matplotlib.pyplot as plt\n",
        "from tensorflow.keras.preprocessing.image import ImageDataGenerator\n",
        "from sklearn.model_selection import train_test_split\n",
        "from sklearn.metrics import classification_report, confusion_matrix, f1_score\n",
        "from tensorflow.keras.models import load_model"
      ]
    },
    {
      "cell_type": "code",
      "execution_count": null,
      "metadata": {
        "id": "eQZh7AB1U5N0"
      },
      "outputs": [],
      "source": [
        "#Direktori data yang sudah di praprosesing\n",
        "directory = \"/content/drive/MyDrive/Capstone/data_oversampling\""
      ]
    },
    {
      "cell_type": "code",
      "execution_count": null,
      "metadata": {
        "id": "YHpgOj6GU5Xq"
      },
      "outputs": [],
      "source": [
        "#Labeling Data\n",
        "filepaths = []\n",
        "labels = []\n",
        "\n",
        "folds = os.listdir(directory)\n",
        "\n",
        "for fold in folds:\n",
        "\n",
        "    foldpath = os.path.join(directory, fold)\n",
        "    filelist = os.listdir(foldpath)\n",
        "\n",
        "    for file in filelist:\n",
        "\n",
        "        fpath = os.path.join(foldpath, file)\n",
        "        filepaths.append(fpath)\n",
        "        labels.append(fold)\n",
        "\n",
        "Fseries = pd.Series(filepaths, name='Filepath')\n",
        "Lseries = pd.Series(labels, name='Labels')\n",
        "\n",
        "df = pd.concat([Fseries, Lseries], axis=1)"
      ]
    },
    {
      "cell_type": "code",
      "execution_count": null,
      "metadata": {
        "id": "CV9ZIB4-U8a4"
      },
      "outputs": [],
      "source": [
        "#Split data\n",
        "train_df, ts_df = train_test_split(df,test_size= 0.2, shuffle=True, random_state=42, stratify= df['Labels'])\n",
        "\n",
        "test_df, valid_df = train_test_split(ts_df,test_size= 0.5,shuffle=True,random_state=42,\n",
        "                                          stratify= ts_df['Labels'])"
      ]
    },
    {
      "cell_type": "code",
      "execution_count": null,
      "metadata": {
        "id": "D5mTlbx_U-mB"
      },
      "outputs": [],
      "source": [
        "#Check dataset and shape\n",
        "print(\"Training set shape:\", train_df.shape)\n",
        "print(\"Validation set shape:\", valid_df.shape)\n",
        "print(\"Test set shape:\", test_df.shape)"
      ]
    },
    {
      "cell_type": "code",
      "execution_count": null,
      "metadata": {
        "id": "pDW6lr1zU-s1"
      },
      "outputs": [],
      "source": [
        "#Resize image\n",
        "batch_size = 32\n",
        "img_size = (256,256)\n",
        "\n",
        "gen = ImageDataGenerator(rescale=1./255)\n",
        "\n",
        "train_gen = gen.flow_from_dataframe(train_df, x_col='Filepath', y_col='Labels',target_size= img_size,\n",
        "                                   class_mode= 'categorical', color_mode='rgb', shuffle = True,\n",
        "                                   batch_size= batch_size)\n",
        "\n",
        "valid_gen = gen.flow_from_dataframe(valid_df, x_col='Filepath', y_col='Labels',target_size= img_size,\n",
        "                                   class_mode= 'categorical', color_mode='rgb', shuffle = True,\n",
        "                                   batch_size= batch_size)\n",
        "\n",
        "test_gen = gen.flow_from_dataframe(test_df, x_col='Filepath', y_col='Labels',target_size= img_size,\n",
        "                                   class_mode= 'categorical', color_mode='rgb', shuffle = False,\n",
        "                                   batch_size= batch_size)"
      ]
    },
    {
      "cell_type": "code",
      "execution_count": null,
      "metadata": {
        "id": "pBA03m5yU_C4"
      },
      "outputs": [],
      "source": [
        "#Model using TF\n",
        "model = tf.keras.models.Sequential([\n",
        "    tf.keras.layers.Conv2D(32, (3,3), activation='relu', input_shape = (256, 256, 3)),\n",
        "    tf.keras.layers.MaxPooling2D(2,2),\n",
        "    tf.keras.layers.Conv2D(64, (3,3), activation='relu'),\n",
        "    tf.keras.layers.MaxPooling2D(2,2),\n",
        "    tf.keras.layers.Conv2D(128, (3,3), activation='relu'),\n",
        "    tf.keras.layers.MaxPooling2D(2,2),\n",
        "    tf.keras.layers.Conv2D(256, (3,3), activation='relu'),\n",
        "    tf.keras.layers.MaxPooling2D(2,2),\n",
        "    tf.keras.layers.Conv2D(512, (3,3), activation='relu'),\n",
        "    tf.keras.layers.MaxPooling2D(2,2),\n",
        "    tf.keras.layers.Dropout(0.5),\n",
        "    tf.keras.layers.Flatten(),\n",
        "    tf.keras.layers.Dense(64, activation='relu'),\n",
        "    tf.keras.layers.Dense(32, activation='relu'),\n",
        "    tf.keras.layers.Dense(4, activation='softmax')\n",
        "\n",
        "])\n",
        "\n",
        "#Compile model\n",
        "model.compile(optimizer='adam',\n",
        "              loss='categorical_crossentropy',\n",
        "              metrics=['accuracy'])\n",
        "\n",
        "#Train model\n",
        "model.fit(\n",
        "    train_gen,\n",
        "    steps_per_epoch=train_gen.samples // batch_size,\n",
        "    epochs=20,\n",
        "    validation_data=valid_gen,\n",
        "    validation_steps=valid_gen.samples // batch_size\n",
        ")\n",
        "\n"
      ]
    },
    {
      "cell_type": "code",
      "execution_count": null,
      "metadata": {
        "id": "005G-6nDU_FX"
      },
      "outputs": [],
      "source": [
        "#Test model accuracy\n",
        "test_loss, test_acc = model.evaluate(test_gen, verbose=2)\n",
        "print('\\nTest accuracy:', test_acc)\n",
        "y_pred = model.predict(test_gen, steps=len(test_gen))\n",
        "y_pred_classes = np.argmax(y_pred, axis=1)\n",
        "\n",
        "y_true = test_gen.classes\n",
        "class_labels = list(test_gen.class_indices.keys())\n",
        "\n",
        "#Confusion Matrix and F1-score\n",
        "report = classification_report(y_true, y_pred_classes, target_names=class_labels)\n",
        "print(report)\n",
        "\n",
        "f1 = f1_score(y_true, y_pred_classes, average='weighted')\n",
        "print(f'Weighted F1 score: {f1}')\n",
        "\n",
        "conf_matrix = confusion_matrix(y_true, y_pred_classes)\n",
        "\n",
        "plt.figure(figsize=(10, 8))\n",
        "sns.heatmap(conf_matrix, annot=True, fmt='d', cmap='Blues', xticklabels=class_labels, yticklabels=class_labels)\n",
        "plt.xlabel('Predicted')\n",
        "plt.ylabel('True')\n",
        "plt.title('Confusion Matrix')\n",
        "plt.show()"
      ]
    }
  ],
  "metadata": {
    "colab": {
      "provenance": []
    },
    "kernelspec": {
      "display_name": "Python 3",
      "name": "python3"
    },
    "language_info": {
      "name": "python"
    }
  },
  "nbformat": 4,
  "nbformat_minor": 0
}
